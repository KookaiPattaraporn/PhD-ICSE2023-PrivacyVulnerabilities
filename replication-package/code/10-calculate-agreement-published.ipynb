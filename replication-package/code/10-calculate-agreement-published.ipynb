{
 "cells": [
  {
   "cell_type": "code",
   "execution_count": null,
   "source": [
    "import pandas as pd\n",
    "import numpy as np\n",
    "import csv\n",
    "import sklearn\n",
    "from sklearn.metrics import cohen_kappa_score"
   ],
   "outputs": [],
   "metadata": {}
  },
  {
   "cell_type": "code",
   "execution_count": null,
   "source": [
    "#specify you path here\n",
    "path_name = ''"
   ],
   "outputs": [],
   "metadata": {}
  },
  {
   "cell_type": "code",
   "execution_count": null,
   "source": [
    "cve_coder1 = pd.read_csv(path_name + 'cve-coder1.csv')\n",
    "cve_coder2 = pd.read_csv(path_name + 'cve-coder2.csv')\n",
    "cwe_coder1 = pd.read_csv(path_name + 'cwe-coder1.csv')\n",
    "cwe_coder2 = pd.read_csv(path_name + 'cwe-coder2.csv')"
   ],
   "outputs": [],
   "metadata": {}
  },
  {
   "cell_type": "code",
   "execution_count": null,
   "source": [
    "cve_coder1_label = cve_coder1['Label'].to_numpy()\n",
    "cve_coder2_label = cve_coder2['Label'].to_numpy()\n",
    "cwe_coder1_label = cwe_coder1['Label'].to_numpy()\n",
    "cwe_coder2_label = cwe_coder2['Label'].to_numpy()"
   ],
   "outputs": [],
   "metadata": {}
  },
  {
   "cell_type": "code",
   "execution_count": null,
   "source": [
    "cve_agreement = sklearn.metrics.cohen_kappa_score(cve_coder1_label, cve_coder2_label)\n",
    "cwe_agreement = sklearn.metrics.cohen_kappa_score(cwe_coder1_label, cwe_coder2_label)"
   ],
   "outputs": [],
   "metadata": {}
  },
  {
   "cell_type": "code",
   "execution_count": null,
   "source": [
    "print('cve_agreement:', cve_agreement)\n",
    "print('cwe_agreement:', cwe_agreement)"
   ],
   "outputs": [],
   "metadata": {}
  }
 ],
 "metadata": {
  "orig_nbformat": 4,
  "language_info": {
   "name": "python",
   "version": "3.8.5",
   "mimetype": "text/x-python",
   "codemirror_mode": {
    "name": "ipython",
    "version": 3
   },
   "pygments_lexer": "ipython3",
   "nbconvert_exporter": "python",
   "file_extension": ".py"
  },
  "kernelspec": {
   "name": "python3",
   "display_name": "Python 3.8.5 64-bit"
  },
  "interpreter": {
   "hash": "aee8b7b246df8f9039afb4144a1f6fd8d2ca17a180786b69acc140d282b71a49"
  }
 },
 "nbformat": 4,
 "nbformat_minor": 2
}